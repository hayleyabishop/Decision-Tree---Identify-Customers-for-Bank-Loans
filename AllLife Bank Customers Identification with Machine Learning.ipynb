{
 "cells": [
  {
   "cell_type": "code",
   "execution_count": null,
   "metadata": {},
   "outputs": [],
   "source": []
  },
  {
   "cell_type": "markdown",
   "metadata": {},
   "source": [
    "## Setting:\n",
    "We have many loyal customers who hold deposit accounts with our bank. However, in our loan accounts, we have a large potential to increase our customer base. If we harness this lost potential for loan customers, we will vastly improve our ratio of Assets to Liabilities. \n",
    "\n",
    "Our VP-suite leadership suggests we focus on targeting current depositors to withdraw personal loans, aka \"conversion\" of existing depositor customers to depositor-borrower customers. \n",
    "\n",
    "In FY2023, our marketing department launched a successful targeted campaign that converted more than 9% of customers. \n",
    "\n",
    "## Objective: \n",
    "\n",
    "This study seeks to continue and expand the current success rate by evaluating the marketing data for trends. We seek to create customer profiles, and reveal the profiles of customers most likely to enroll in our Personal Loan program.\n",
    "\n",
    "## Goals:\n",
    "Explore the data and variables to find trends.\n",
    "\n",
    "Create customer profiles. \n",
    "\n",
    "Predict customers who will buy the loan. \n",
    "\n",
    "Acknowledge any discovered trends that may aid the Bank in other ways. \n",
    "\n",
    "\n",
    "\n"
   ]
  },
  {
   "cell_type": "code",
   "execution_count": null,
   "metadata": {},
   "outputs": [],
   "source": [
    "import numpy as np\n",
    "import pandas as pd\n",
    "import matplotlib as plt\n",
    "import plotly.express as px"
   ]
  }
 ],
 "metadata": {
  "kernelspec": {
   "display_name": "Python 3",
   "language": "python",
   "name": "python3"
  },
  "language_info": {
   "codemirror_mode": {
    "name": "ipython",
    "version": 3
   },
   "file_extension": ".py",
   "mimetype": "text/x-python",
   "name": "python",
   "nbconvert_exporter": "python",
   "pygments_lexer": "ipython3",
   "version": "3.12.3"
  }
 },
 "nbformat": 4,
 "nbformat_minor": 2
}
